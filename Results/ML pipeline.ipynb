{
 "cells": [
  {
   "cell_type": "code",
   "execution_count": 1,
   "metadata": {},
   "outputs": [],
   "source": [
    "import warnings\n",
    "warnings.filterwarnings('ignore')"
   ]
  },
  {
   "cell_type": "code",
   "execution_count": 2,
   "metadata": {},
   "outputs": [],
   "source": [
    "import pandas as pd\n",
    "import numpy  as np\n",
    "import matplotlib\n",
    "from matplotlib import pylab as plt"
   ]
  },
  {
   "cell_type": "markdown",
   "metadata": {},
   "source": [
    "#### Import Dataset"
   ]
  },
  {
   "cell_type": "code",
   "execution_count": 3,
   "metadata": {},
   "outputs": [
    {
     "name": "stdout",
     "output_type": "stream",
     "text": [
      "(27820, 8)\n",
      "Index(['country', 'year', 'sex', 'age', 'population', 'suicides/100k pop',\n",
      "       'gdp_per_capita ($)', 'generation'],\n",
      "      dtype='object')\n"
     ]
    }
   ],
   "source": [
    "df = pd.read_csv('Suicide Rate ML.csv')\n",
    "print(df.shape)\n",
    "print(df.columns)"
   ]
  },
  {
   "cell_type": "code",
   "execution_count": 4,
   "metadata": {},
   "outputs": [],
   "source": [
    "from sklearn.model_selection import KFold\n",
    "from sklearn.preprocessing import OrdinalEncoder\n",
    "from sklearn.preprocessing import OneHotEncoder\n",
    "from sklearn.preprocessing import MinMaxScaler\n",
    "from sklearn.preprocessing import StandardScaler\n",
    "from sklearn.model_selection import train_test_split\n",
    "from sklearn.model_selection import StratifiedKFold\n",
    "from sklearn.linear_model import Ridge\n",
    "from sklearn.metrics import mean_squared_error\n",
    "from sklearn.svm import SVR\n",
    "from sklearn.ensemble import RandomForestRegressor"
   ]
  },
  {
   "cell_type": "markdown",
   "metadata": {},
   "source": [
    "#### Dataset"
   ]
  },
  {
   "cell_type": "code",
   "execution_count": 5,
   "metadata": {},
   "outputs": [],
   "source": [
    "feature_names = ['country', 'year', 'sex', 'age', 'population','gdp_per_capita ($)', 'generation']\n",
    "label = 'suicides/100k pop'\n",
    "y = df[label]\n",
    "X = df.drop(columns=[label])"
   ]
  },
  {
   "cell_type": "markdown",
   "metadata": {},
   "source": [
    "#### ML pipeline\n",
    "\n",
    "Ridge - Lecture 14 <br>\n",
    "Random Forest Regression - Lecture 18 <br>\n",
    "SVM rbf Regression - Lecture 19"
   ]
  },
  {
   "cell_type": "code",
   "execution_count": 6,
   "metadata": {},
   "outputs": [],
   "source": [
    "standard_ftrs = ['population', 'gdp_per_capita ($)']\n",
    "onehot_ftrs = ['country', 'sex', 'generation']\n",
    "ordinal_ftrs = ['age']\n",
    "minmax_ftrs = ['year']"
   ]
  },
  {
   "cell_type": "markdown",
   "metadata": {},
   "source": [
    "##### Ridge Regression"
   ]
  },
  {
   "cell_type": "code",
   "execution_count": 7,
   "metadata": {},
   "outputs": [],
   "source": [
    "def ML_pipeline_kfold_ridge(X,y,random_state,n_folds):\n",
    "    X_other, X_test, y_other, y_test = train_test_split(X, y, test_size=0.2, \n",
    "                                                        random_state = random_state)\n",
    "    best_alphas = []\n",
    "    test_scores = []\n",
    "    kf = KFold(n_splits=5,shuffle=True,random_state=random_state)\n",
    "    \n",
    "    for train_index, CV_index in kf.split(X_other,y_other):\n",
    "        X_train, X_CV = X_other.iloc[train_index.tolist()], X_other.iloc[CV_index.tolist()]\n",
    "        y_train, y_CV = y_other.iloc[train_index.tolist()], y_other.iloc[CV_index.tolist()]\n",
    "        \n",
    "        ss = StandardScaler()\n",
    "        X_train_ss = ss.fit_transform(X_train[standard_ftrs])\n",
    "        X_train_ss = pd.DataFrame(X_train_ss, columns = standard_ftrs)\n",
    "        X_c_ss = ss.transform(X_CV[standard_ftrs])\n",
    "        X_c_ss = pd.DataFrame(X_c_ss, columns = standard_ftrs)\n",
    "        X_t_ss = ss.transform(X_test[standard_ftrs])\n",
    "        X_t_ss = pd.DataFrame(X_t_ss, columns = standard_ftrs)\n",
    "        \n",
    "        ohe = OneHotEncoder(sparse = False, categories='auto')\n",
    "        X_train_ohe = ohe.fit_transform(X_train[onehot_ftrs])\n",
    "        X_train_ohe = pd.DataFrame(X_train_ohe, columns = ohe.get_feature_names())\n",
    "        X_c_ohe = ohe.transform(X_CV[onehot_ftrs])\n",
    "        X_c_ohe = pd.DataFrame(X_c_ohe, columns = ohe.get_feature_names())\n",
    "        X_t_ohe = ohe.transform(X_test[onehot_ftrs])\n",
    "        X_t_ohe = pd.DataFrame(X_t_ohe, columns = ohe.get_feature_names())\n",
    "        \n",
    "        oe = OrdinalEncoder(categories = [['5-14 years','15-24 years', '25-34 years',\n",
    "                                       '35-54 years','55-74 years','75+ years']])\n",
    "        X_train_oe = oe.fit_transform(X_train[ordinal_ftrs])\n",
    "        X_train_oe = pd.DataFrame(X_train_oe, columns = ordinal_ftrs)\n",
    "        X_c_oe = oe.transform(X_CV[ordinal_ftrs])\n",
    "        X_c_oe = pd.DataFrame(X_c_oe, columns = ordinal_ftrs)\n",
    "        X_t_oe = oe.transform(X_test[ordinal_ftrs])\n",
    "        X_t_oe = pd.DataFrame(X_t_oe, columns = ordinal_ftrs)\n",
    "        \n",
    "        mm = MinMaxScaler()\n",
    "        X_train_mm = mm.fit_transform(X_train[minmax_ftrs])\n",
    "        X_train_mm = pd.DataFrame(X_train_mm, columns = minmax_ftrs)\n",
    "        X_c_mm = mm.transform(X_CV[minmax_ftrs])\n",
    "        X_c_mm = pd.DataFrame(X_c_mm, columns = minmax_ftrs)\n",
    "        X_t_mm = mm.transform(X_test[minmax_ftrs])\n",
    "        X_t_mm = pd.DataFrame(X_t_mm, columns = minmax_ftrs)\n",
    "\n",
    "        X_train_ = pd.concat([X_train_mm, X_train_oe, X_train_ohe, X_train_ss], axis=1)\n",
    "        X_CV_ = pd.concat([X_c_mm, X_c_oe, X_c_ohe, X_c_ss], axis=1)\n",
    "        X_test_ = pd.concat([X_t_mm, X_t_oe, X_t_ohe, X_t_ss], axis=1)\n",
    "        \n",
    "        alpha = np.logspace(-16,1,100)\n",
    "        CV_score = []\n",
    "        regs = []\n",
    "        for a in alpha:\n",
    "            reg = Ridge(alpha = a)\n",
    "            reg.fit(X_train_, y_train)\n",
    "            CV_score.append(reg.score(X_CV_, y_CV))\n",
    "            regs.append(reg)\n",
    "            \n",
    "        best_alpha = alpha[np.argmax(CV_score)]\n",
    "        best_alphas.append(best_alpha)\n",
    "        \n",
    "        reg = regs[np.argmax(CV_score)]\n",
    "        test_scores.append(reg.score(X_test_,y_test))\n",
    "        \n",
    "    BA = best_alphas[np.argmax(test_scores)]\n",
    "    return BA, test_scores"
   ]
  },
  {
   "cell_type": "code",
   "execution_count": 8,
   "metadata": {},
   "outputs": [
    {
     "name": "stdout",
     "output_type": "stream",
     "text": [
      "Random state = 0 and best alpha = 10.0.\n",
      "Random state = 42 and best alpha = 2.056512308348643.\n",
      "Random state = 84 and best alpha = 10.0.\n",
      "Random state = 126 and best alpha = 6.734150657750801.\n",
      "Random state = 168 and best alpha = 8.302175681319735e-14.\n",
      "Random state = 210 and best alpha = 3.0538555088334123.\n",
      "Random state = 252 and best alpha = 4.534878508128592.\n",
      "Random state = 294 and best alpha = 2.205130739903041e-16.\n",
      "Random state = 336 and best alpha = 0.2848035868435793.\n",
      "Random state = 378 and best alpha = 1e-16.\n",
      "test accuracy score: 0.509 +/- 0.009\n"
     ]
    }
   ],
   "source": [
    "TS_ridge = []\n",
    "for i in range(10):\n",
    "    best_alpha, test_score = ML_pipeline_kfold_ridge(X, y, 42*i, 5)\n",
    "    TS_ridge.append(test_score)\n",
    "    print('Random state = {} and best alpha = {}.'.format(42*i, best_alpha))\n",
    "print('test accuracy score:', np.around(np.mean(TS_ridge),3), '+/-', np.around(np.std(TS_ridge),3))"
   ]
  },
  {
   "cell_type": "markdown",
   "metadata": {},
   "source": [
    "##### Random Forest"
   ]
  },
  {
   "cell_type": "code",
   "execution_count": 9,
   "metadata": {},
   "outputs": [],
   "source": [
    "def ML_pipeline_kfold_rf(X, y, random_state, n_folds):\n",
    "    X_other, X_test, y_other, y_test = train_test_split(X, y, test_size=0.2, \n",
    "                                                        random_state = random_state)\n",
    "    best_ds = []\n",
    "    test_scores = []\n",
    "    kf = KFold(n_splits=5,shuffle=True,random_state=random_state)\n",
    "    \n",
    "    for train_index, CV_index in kf.split(X_other, y_other):\n",
    "        X_train, X_CV = X_other.iloc[train_index.tolist()], X_other.iloc[CV_index.tolist()]\n",
    "        y_train, y_CV = y_other.iloc[train_index.tolist()], y_other.iloc[CV_index.tolist()]\n",
    "        \n",
    "        ss = StandardScaler()\n",
    "        X_train_ss = ss.fit_transform(X_train[standard_ftrs])\n",
    "        X_train_ss = pd.DataFrame(X_train_ss, columns = standard_ftrs)\n",
    "        X_c_ss = ss.transform(X_CV[standard_ftrs])\n",
    "        X_c_ss = pd.DataFrame(X_c_ss, columns = standard_ftrs)\n",
    "        X_t_ss = ss.transform(X_test[standard_ftrs])\n",
    "        X_t_ss = pd.DataFrame(X_t_ss, columns = standard_ftrs)\n",
    "        \n",
    "        ohe = OneHotEncoder(sparse = False, categories='auto')\n",
    "        X_train_ohe = ohe.fit_transform(X_train[onehot_ftrs])\n",
    "        X_train_ohe = pd.DataFrame(X_train_ohe, columns = ohe.get_feature_names())\n",
    "        X_c_ohe = ohe.transform(X_CV[onehot_ftrs])\n",
    "        X_c_ohe = pd.DataFrame(X_c_ohe, columns = ohe.get_feature_names())\n",
    "        X_t_ohe = ohe.transform(X_test[onehot_ftrs])\n",
    "        X_t_ohe = pd.DataFrame(X_t_ohe, columns = ohe.get_feature_names())\n",
    "        \n",
    "        oe = OrdinalEncoder(categories = [['5-14 years','15-24 years', '25-34 years',\n",
    "                                       '35-54 years','55-74 years','75+ years']])\n",
    "        X_train_oe = oe.fit_transform(X_train[ordinal_ftrs])\n",
    "        X_train_oe = pd.DataFrame(X_train_oe, columns = ordinal_ftrs)\n",
    "        X_c_oe = oe.transform(X_CV[ordinal_ftrs])\n",
    "        X_c_oe = pd.DataFrame(X_c_oe, columns = ordinal_ftrs)\n",
    "        X_t_oe = oe.transform(X_test[ordinal_ftrs])\n",
    "        X_t_oe = pd.DataFrame(X_t_oe, columns = ordinal_ftrs)\n",
    "        \n",
    "        mm = MinMaxScaler()\n",
    "        X_train_mm = mm.fit_transform(X_train[minmax_ftrs])\n",
    "        X_train_mm = pd.DataFrame(X_train_mm, columns = minmax_ftrs)\n",
    "        X_c_mm = mm.transform(X_CV[minmax_ftrs])\n",
    "        X_c_mm = pd.DataFrame(X_c_mm, columns = minmax_ftrs)\n",
    "        X_t_mm = mm.transform(X_test[minmax_ftrs])\n",
    "        X_t_mm = pd.DataFrame(X_t_mm, columns = minmax_ftrs)\n",
    "\n",
    "        X_train_ = pd.concat([X_train_mm, X_train_oe, X_train_ohe, X_train_ss], axis=1)\n",
    "        X_CV_ = pd.concat([X_c_mm, X_c_oe, X_c_ohe, X_c_ss], axis=1)\n",
    "        X_test_ = pd.concat([X_t_mm, X_t_oe, X_t_ohe, X_t_ss], axis=1)\n",
    "        \n",
    "        depths = [depth for depth in range(7,16)]\n",
    "        splits = [split for split in range(3,12)]\n",
    "        ds = [(depth, split) for depth in depths for split in splits]\n",
    "        CV_score = []\n",
    "        clfs = []\n",
    "        for d, s in ds:\n",
    "            clf = RandomForestRegressor(n_estimators=100, random_state=random_state,\n",
    "                                         max_depth=d, min_samples_split=s)\n",
    "            clf.fit(X_train_, y_train)\n",
    "            CV_score.append(clf.score(X_CV_, y_CV))\n",
    "            clfs.append(clf)\n",
    "        best_d = ds[np.argmax(CV_score)][0]\n",
    "        best_s = ds[np.argmax(CV_score)][1]\n",
    "        best_ds.append((best_d, best_s))\n",
    "        clf = clfs[np.argmax(CV_score)]\n",
    "        test_scores.append(clf.score(X_test_,y_test))\n",
    "    DS = best_ds[np.argmax(test_scores)]\n",
    "    return DS, test_scores"
   ]
  },
  {
   "cell_type": "code",
   "execution_count": 10,
   "metadata": {},
   "outputs": [
    {
     "name": "stdout",
     "output_type": "stream",
     "text": [
      "Random state = 0, best max_depth = 15, and best min_samples_split = 5.\n",
      "Random state = 42, best max_depth = 15, and best min_samples_split = 3.\n",
      "Random state = 84, best max_depth = 15, and best min_samples_split = 3.\n",
      "Random state = 126, best max_depth = 15, and best min_samples_split = 5.\n",
      "Random state = 168, best max_depth = 15, and best min_samples_split = 3.\n",
      "Random state = 210, best max_depth = 15, and best min_samples_split = 6.\n",
      "Random state = 252, best max_depth = 15, and best min_samples_split = 4.\n",
      "Random state = 294, best max_depth = 15, and best min_samples_split = 4.\n",
      "Random state = 336, best max_depth = 15, and best min_samples_split = 4.\n",
      "Random state = 378, best max_depth = 15, and best min_samples_split = 4.\n",
      "test accuracy score: 0.742 +/- 0.015\n"
     ]
    }
   ],
   "source": [
    "TS_rf = []\n",
    "for i in range(10):\n",
    "    best_ds, test_score = ML_pipeline_kfold_rf(X, y, 42*i,5)\n",
    "    TS_rf.append(test_score)\n",
    "    print('Random state = {}, best max_depth = {}, and best min_samples_split = {}.'.format(42*i,\n",
    "                                                                                             best_ds[0], best_ds[1]))\n",
    "print('test accuracy score:', np.around(np.mean(TS_rf),3), '+/-', np.around(np.std(TS_rf),3))"
   ]
  },
  {
   "cell_type": "markdown",
   "metadata": {},
   "source": [
    "##### SVR"
   ]
  },
  {
   "cell_type": "code",
   "execution_count": 7,
   "metadata": {},
   "outputs": [],
   "source": [
    "def ML_pipeline_kfold_svr(X, y, random_state, n_folds):\n",
    "    X_other, X_test, y_other, y_test = train_test_split(X, y, test_size=0.2, \n",
    "                                                        random_state = random_state)\n",
    "    best_gc = []\n",
    "    test_scores = []\n",
    "    kf = KFold(n_splits=5,shuffle=True,random_state=random_state) \n",
    "    \n",
    "    for train_index, CV_index in kf.split(X_other, y_other):\n",
    "        X_train, X_CV = X_other.iloc[train_index.tolist()], X_other.iloc[CV_index.tolist()]\n",
    "        y_train, y_CV = y_other.iloc[train_index.tolist()], y_other.iloc[CV_index.tolist()]\n",
    "        \n",
    "        ss = StandardScaler()\n",
    "        X_train_ss = ss.fit_transform(X_train[standard_ftrs])\n",
    "        X_train_ss = pd.DataFrame(X_train_ss, columns = standard_ftrs)\n",
    "        X_c_ss = ss.transform(X_CV[standard_ftrs])\n",
    "        X_c_ss = pd.DataFrame(X_c_ss, columns = standard_ftrs)\n",
    "        X_t_ss = ss.transform(X_test[standard_ftrs])\n",
    "        X_t_ss = pd.DataFrame(X_t_ss, columns = standard_ftrs)\n",
    "        \n",
    "        ohe = OneHotEncoder(sparse = False, categories='auto')\n",
    "        X_train_ohe = ohe.fit_transform(X_train[onehot_ftrs])\n",
    "        X_train_ohe = pd.DataFrame(X_train_ohe, columns = ohe.get_feature_names())\n",
    "        X_c_ohe = ohe.transform(X_CV[onehot_ftrs])\n",
    "        X_c_ohe = pd.DataFrame(X_c_ohe, columns = ohe.get_feature_names())\n",
    "        X_t_ohe = ohe.transform(X_test[onehot_ftrs])\n",
    "        X_t_ohe = pd.DataFrame(X_t_ohe, columns = ohe.get_feature_names())\n",
    "        \n",
    "        oe = OrdinalEncoder(categories = [['5-14 years','15-24 years', '25-34 years',\n",
    "                                       '35-54 years','55-74 years','75+ years']])\n",
    "        X_train_oe = oe.fit_transform(X_train[ordinal_ftrs])\n",
    "        X_train_oe = pd.DataFrame(X_train_oe, columns = ordinal_ftrs)\n",
    "        X_c_oe = oe.transform(X_CV[ordinal_ftrs])\n",
    "        X_c_oe = pd.DataFrame(X_c_oe, columns = ordinal_ftrs)\n",
    "        X_t_oe = oe.transform(X_test[ordinal_ftrs])\n",
    "        X_t_oe = pd.DataFrame(X_t_oe, columns = ordinal_ftrs)\n",
    "        \n",
    "        mm = MinMaxScaler()\n",
    "        X_train_mm = mm.fit_transform(X_train[minmax_ftrs])\n",
    "        X_train_mm = pd.DataFrame(X_train_mm, columns = minmax_ftrs)\n",
    "        X_c_mm = mm.transform(X_CV[minmax_ftrs])\n",
    "        X_c_mm = pd.DataFrame(X_c_mm, columns = minmax_ftrs)\n",
    "        X_t_mm = mm.transform(X_test[minmax_ftrs])\n",
    "        X_t_mm = pd.DataFrame(X_t_mm, columns = minmax_ftrs)\n",
    "\n",
    "        X_train_ = pd.concat([X_train_mm, X_train_oe, X_train_ohe, X_train_ss], axis=1)\n",
    "        X_CV_ = pd.concat([X_c_mm, X_c_oe, X_c_ohe, X_c_ss], axis=1)\n",
    "        X_test_ = pd.concat([X_t_mm, X_t_oe, X_t_ohe, X_t_ss], axis=1)\n",
    "        \n",
    "        \n",
    "        \n",
    "        cs = np.logspace(-3, 10, 13)\n",
    "        gammas = np.logspace(-9, 3, 13)\n",
    "        gc = [(gamma, c) for gamma in gammas for c in cs]\n",
    "        CV_score = []\n",
    "        clfs = []\n",
    "        for g, c in gc:\n",
    "            clf = SVR(gamma=g, C=c)\n",
    "            clf.fit(X_train_, y_train)\n",
    "            CV_score.append(clf.score(X_CV_, y_CV))\n",
    "            clfs.append(clf)\n",
    "        best_g = gc[np.argmax(CV_score)][0]\n",
    "        best_c = gc[np.argmax(CV_score)][1]\n",
    "        best_gc.append((best_g, best_c))\n",
    "        clf = clfs[np.argmax(CV_score)]\n",
    "    test_scores.append(clf.score(X_test_,y_test))\n",
    "    GC = best_gc[np.argmax(test_scores)]\n",
    "    return GC, test_scores\n",
    "    "
   ]
  },
  {
   "cell_type": "code",
   "execution_count": null,
   "metadata": {},
   "outputs": [],
   "source": [
    "TS_svr = []\n",
    "for i in range(10):\n",
    "    best_gc, test_score = ML_pipeline_kfold_svr(X, y, 42*i, 5)\n",
    "    TS_svr.append(test_score)\n",
    "    print('Random state = {}, best gamma = {}, and best C = {}.'.format(42*i, \n",
    "                                                                         best_gc[0], best_gc[1]))\n",
    "\n",
    "print('test accuracy score:', np.around(np.mean(TS_svr),3), '+/-', np.around(np.std(TS_svr),3))"
   ]
  },
  {
   "cell_type": "markdown",
   "metadata": {},
   "source": [
    "#### Feature Importance"
   ]
  },
  {
   "cell_type": "markdown",
   "metadata": {},
   "source": [
    "##### Random Forest"
   ]
  },
  {
   "cell_type": "code",
   "execution_count": 8,
   "metadata": {},
   "outputs": [
    {
     "name": "stdout",
     "output_type": "stream",
     "text": [
      "[2.61832185e-02 2.48164388e-01 1.52653787e-06 7.95027135e-05\n",
      " 6.90990483e-05 6.02917741e-06 1.14422563e-03 6.84464505e-05\n",
      " 1.32475768e-02 4.22135423e-08 4.42677838e-05 2.36254524e-06\n",
      " 2.26071285e-05 2.25226301e-02 1.25659279e-03 2.91766437e-04\n",
      " 0.00000000e+00 9.06822359e-06 8.59215420e-03 5.32901646e-06\n",
      " 1.77858805e-05 1.12352205e-04 2.17534035e-04 8.17314679e-07\n",
      " 8.24848918e-03 1.20523545e-02 2.89014882e-06 2.07983234e-03\n",
      " 2.01811896e-05 0.00000000e+00 1.69940438e-04 9.26504856e-05\n",
      " 1.17096758e-02 1.11557416e-04 8.75845813e-03 8.88136206e-03\n",
      " 4.49211468e-06 1.57973460e-04 7.91091054e-05 5.03018144e-05\n",
      " 1.63310573e-06 1.02813526e-02 3.57651644e-02 1.25998147e-03\n",
      " 2.20083481e-04 1.02475404e-04 1.15708594e-05 4.92152076e-07\n",
      " 2.23753499e-03 2.18256694e-02 3.39307114e-04 5.55648650e-05\n",
      " 4.71154366e-04 2.00925916e-02 4.74348832e-02 4.85927272e-03\n",
      " 8.26092445e-04 4.18163191e-04 1.29354041e-04 5.91948394e-04\n",
      " 4.07993465e-06 0.00000000e+00 1.30099569e-03 1.18525269e-05\n",
      " 2.02421977e-03 8.37507528e-08 4.72075013e-05 1.05005734e-06\n",
      " 6.51156715e-05 2.99213943e-06 6.25860846e-06 2.35574462e-05\n",
      " 4.36354756e-05 2.24025797e-04 4.43970546e-05 1.51304601e-02\n",
      " 1.03405239e-05 3.61714693e-02 0.00000000e+00 4.29230326e-04\n",
      " 1.60881282e-04 1.00646426e-06 1.09990727e-02 1.13011693e-03\n",
      " 5.56714911e-03 1.35693969e-05 2.12517192e-02 2.60252195e-04\n",
      " 9.52851882e-06 1.24216510e-02 7.76600931e-03 1.75444215e-05\n",
      " 3.81219438e-04 1.54514219e-06 4.96169966e-04 2.84126796e-06\n",
      " 3.79340534e-05 1.50337804e-02 3.64090099e-06 1.57499606e-04\n",
      " 1.29820512e-05 6.15831050e-03 1.36728056e-04 1.43033260e-01\n",
      " 6.12423868e-02 3.69602741e-04 5.41587068e-03 1.30295577e-03\n",
      " 3.09835480e-06 3.14801353e-04 3.83597184e-03 8.94978342e-02\n",
      " 3.60192140e-02]\n"
     ]
    },
    {
     "data": {
      "image/png": "[encoded data removed]",
      "text/plain": [
       "<Figure size 432x288 with 1 Axes>"
      ]
     },
     "metadata": {
      "needs_background": "light"
     },
     "output_type": "display_data"
    },
    {
     "name": "stdout",
     "output_type": "stream",
     "text": [
      "[3.48480210e-02 2.48957680e-01 2.14576447e-09 1.00996432e-04\n",
      " 2.00055279e-05 5.83756032e-06 1.93416395e-03 9.42627513e-05\n",
      " 1.20656806e-02 1.63854311e-07 5.69924596e-05 2.10446771e-05\n",
      " 8.73855551e-05 2.25626204e-02 1.38608299e-03 2.93969057e-04\n",
      " 0.00000000e+00 3.24662737e-05 1.29008609e-02 3.56995187e-05\n",
      " 1.11462207e-05 1.95604955e-05 1.02889502e-04 4.74520066e-05\n",
      " 4.49415940e-03 1.32054593e-02 5.85760650e-05 1.09207331e-04\n",
      " 2.69515430e-06 0.00000000e+00 6.87137467e-06 1.71215064e-04\n",
      " 1.48157414e-02 1.18504479e-04 1.05170964e-02 6.63121196e-03\n",
      " 2.08577913e-10 2.88636174e-04 1.52700246e-04 5.19018352e-05\n",
      " 2.32172131e-06 1.12281880e-02 3.33664395e-02 1.33561602e-03\n",
      " 3.69595464e-04 4.36595851e-05 1.28848345e-05 1.62351824e-08\n",
      " 1.90548286e-03 2.03960151e-02 3.01895615e-04 6.20725356e-05\n",
      " 2.13373463e-04 2.15928786e-02 4.88269237e-02 5.64431425e-03\n",
      " 8.24900160e-04 2.48978835e-04 2.13986372e-04 4.08744647e-04\n",
      " 2.46477359e-06 0.00000000e+00 1.99880724e-03 1.32117074e-05\n",
      " 1.57131368e-03 1.26292906e-08 2.22955105e-05 1.73841459e-05\n",
      " 4.61569390e-05 2.22434079e-07 1.21530420e-06 3.93548317e-05\n",
      " 2.44582370e-05 9.95081604e-05 5.18044198e-05 1.23216072e-02\n",
      " 1.39414569e-05 3.81278223e-02 0.00000000e+00 5.19353314e-04\n",
      " 1.30610319e-04 7.17341576e-07 8.91440302e-03 3.31766543e-04\n",
      " 3.34757672e-03 9.84165007e-07 1.70056206e-02 9.31167949e-05\n",
      " 2.24511983e-05 1.46037881e-02 7.78953046e-03 6.85944856e-06\n",
      " 4.97534483e-04 1.42991644e-07 2.28703215e-04 3.91907066e-07\n",
      " 1.65112877e-05 1.95728383e-02 2.04763869e-05 9.89150504e-05\n",
      " 5.83072750e-05 2.10677445e-03 4.18116332e-05 1.16492847e-01\n",
      " 8.40162171e-02 3.61446870e-04 4.58414369e-03 1.21191890e-03\n",
      " 3.84862141e-06 2.95304515e-04 2.89310725e-03 8.50891758e-02\n",
      " 4.20839762e-02]\n"
     ]
    },
    {
     "data": {
      "image/png": "[encoded data removed]",
      "text/plain": [
       "<Figure size 432x288 with 1 Axes>"
      ]
     },
     "metadata": {
      "needs_background": "light"
     },
     "output_type": "display_data"
    },
    {
     "name": "stdout",
     "output_type": "stream",
     "text": [
      "[3.00290305e-02 2.46594459e-01 8.56087756e-07 5.30576744e-05\n",
      " 5.15065260e-05 1.38774551e-05 2.60540758e-03 2.58586557e-05\n",
      " 1.39698314e-02 1.70755976e-08 8.12541491e-05 8.65895340e-06\n",
      " 4.59495421e-05 2.21047063e-02 1.23533780e-03 4.87053876e-04\n",
      " 0.00000000e+00 3.09166819e-05 9.78613203e-03 3.04178000e-05\n",
      " 5.80502068e-06 9.81317408e-05 1.96201179e-04 9.09531816e-07\n",
      " 8.26416608e-03 1.04312724e-02 1.37796203e-06 6.31593172e-04\n",
      " 7.98970981e-06 0.00000000e+00 1.13641215e-05 1.01000858e-04\n",
      " 1.73959315e-02 6.87334371e-05 9.42200288e-03 1.06662507e-02\n",
      " 6.70680266e-07 7.78725651e-05 5.70749787e-05 3.29861991e-05\n",
      " 3.40291073e-08 1.13264531e-02 4.19759603e-02 1.27287437e-03\n",
      " 1.06313768e-04 4.72269687e-05 1.14794785e-05 0.00000000e+00\n",
      " 2.95369555e-03 2.34834524e-02 1.99164133e-04 5.68509984e-05\n",
      " 1.63592666e-04 1.79435327e-02 4.30598719e-02 5.28165243e-03\n",
      " 9.08577915e-04 3.45530393e-05 1.05803540e-04 2.16182529e-04\n",
      " 1.11330823e-05 0.00000000e+00 1.35114478e-03 4.36176389e-06\n",
      " 1.36792838e-03 6.06428976e-08 1.01079335e-05 0.00000000e+00\n",
      " 0.00000000e+00 4.99366914e-07 2.12846303e-08 8.82553566e-06\n",
      " 5.51076469e-05 1.83128646e-04 1.52475162e-05 1.89563313e-02\n",
      " 2.63306745e-05 2.87232485e-02 0.00000000e+00 3.18159694e-04\n",
      " 4.64297527e-04 7.15631061e-07 1.02982368e-02 8.74575868e-04\n",
      " 5.32904980e-03 2.23903442e-06 1.61953528e-02 2.69534505e-04\n",
      " 4.89858951e-06 1.55838603e-02 7.29931432e-03 1.92453069e-06\n",
      " 3.38847806e-04 6.68307568e-09 2.47674335e-04 2.71177854e-09\n",
      " 3.77295659e-05 1.91452586e-02 4.60287924e-06 6.02445776e-05\n",
      " 2.00328586e-05 3.12020105e-03 7.98200560e-05 1.08961344e-01\n",
      " 8.91055019e-02 4.12314419e-04 4.76869303e-03 9.74426775e-04\n",
      " 9.35572253e-07 2.30041031e-04 3.17364207e-03 9.12535022e-02\n",
      " 3.69366058e-02]\n"
     ]
    },
    {
     "data": {
      "image/png": "[encoded data removed]",
      "text/plain": [
       "<Figure size 432x288 with 1 Axes>"
      ]
     },
     "metadata": {
      "needs_background": "light"
     },
     "output_type": "display_data"
    },
    {
     "name": "stdout",
     "output_type": "stream",
     "text": [
      "[3.35396696e-02 2.47604568e-01 6.32297828e-06 4.60292016e-05\n",
      " 3.17863948e-05 2.84320255e-06 1.98334836e-03 6.76241435e-06\n",
      " 1.21684255e-02 3.11916169e-07 5.28398125e-05 7.40743589e-06\n",
      " 1.85638219e-05 2.50882215e-02 8.05455600e-04 2.35903069e-04\n",
      " 0.00000000e+00 8.31872717e-05 9.30453982e-03 7.13764288e-05\n",
      " 3.52631043e-05 3.48055884e-05 1.61866930e-04 1.42424285e-04\n",
      " 7.63612306e-03 1.05008585e-02 5.18541280e-05 7.60854809e-04\n",
      " 1.16421532e-05 0.00000000e+00 2.02373787e-04 1.50521487e-04\n",
      " 1.23527822e-02 1.28665722e-04 1.09851297e-02 6.63126320e-03\n",
      " 8.50559884e-09 1.74355152e-04 1.78272378e-04 4.04793146e-05\n",
      " 5.07181707e-06 1.33622544e-02 3.62567903e-02 1.40145043e-03\n",
      " 3.90685751e-04 7.47429909e-05 1.26401325e-05 2.98763489e-05\n",
      " 2.57892198e-03 2.47215250e-02 1.03128469e-04 1.55590168e-05\n",
      " 2.52812946e-04 1.67954050e-02 3.83814216e-02 5.97704242e-03\n",
      " 4.45886666e-04 5.49027791e-04 2.13522314e-04 3.67174398e-04\n",
      " 4.10090267e-06 0.00000000e+00 1.09216617e-03 7.98663621e-06\n",
      " 1.36315836e-03 4.14378162e-08 1.45631600e-05 2.38889911e-06\n",
      " 1.22913871e-04 7.16176606e-07 4.77945725e-05 2.15441002e-06\n",
      " 4.44842504e-05 5.41391258e-05 6.59579187e-05 1.43278038e-02\n",
      " 1.98047699e-06 3.51682494e-02 0.00000000e+00 7.23960754e-04\n",
      " 4.54778703e-04 1.00573537e-06 1.10577789e-02 1.16515561e-03\n",
      " 4.65405024e-03 1.35681397e-05 1.79382698e-02 2.48723179e-04\n",
      " 8.21388075e-06 1.40412866e-02 6.77050020e-03 1.58951093e-05\n",
      " 6.45661075e-04 4.08793528e-05 3.39727486e-04 5.01482866e-06\n",
      " 5.05609521e-05 1.64867634e-02 7.46321994e-06 1.06290379e-04\n",
      " 3.74763229e-05 5.78630122e-03 1.19912026e-04 8.62511240e-02\n",
      " 1.13801868e-01 6.07670263e-04 4.90682198e-03 1.26579261e-03\n",
      " 2.72738341e-06 3.31138565e-04 3.16373953e-03 9.34792979e-02\n",
      " 3.99779370e-02]\n"
     ]
    },
    {
     "data": {
      "image/png": "[encoded data removed]",
      "text/plain": [
       "<Figure size 432x288 with 1 Axes>"
      ]
     },
     "metadata": {
      "needs_background": "light"
     },
     "output_type": "display_data"
    },
    {
     "name": "stdout",
     "output_type": "stream",
     "text": [
      "[3.48275424e-02 2.37194123e-01 2.12649253e-06 3.64212027e-05\n",
      " 3.12755086e-07 1.46323446e-06 2.54175410e-03 6.57906451e-06\n",
      " 1.01839303e-02 1.93346916e-06 4.19537869e-05 4.10325200e-06\n",
      " 7.69665712e-05 2.73232603e-02 1.16710218e-03 2.65903912e-04\n",
      " 0.00000000e+00 4.23584054e-05 1.16546216e-02 4.56286602e-05\n",
      " 2.15401814e-05 4.64098542e-05 6.21700481e-06 6.56868304e-05\n",
      " 5.97840910e-03 5.44378305e-03 3.44714465e-05 4.51467093e-04\n",
      " 7.05847975e-06 0.00000000e+00 1.46405451e-05 1.46698665e-04\n",
      " 1.34293650e-02 1.07909575e-04 1.11069810e-02 5.59283124e-03\n",
      " 1.99366366e-08 2.12551338e-04 5.11337416e-05 2.30370973e-05\n",
      " 3.25656041e-06 1.04785736e-02 4.54082422e-02 7.39809289e-04\n",
      " 2.48477391e-04 5.81899695e-05 4.50028185e-06 6.14226409e-06\n",
      " 2.15201596e-03 2.25481442e-02 3.01524068e-04 3.32028348e-05\n",
      " 3.04647701e-04 2.04957917e-02 4.72323458e-02 4.52920055e-03\n",
      " 4.67982526e-04 5.07938450e-04 8.23366682e-05 4.45058808e-04\n",
      " 9.43240985e-07 0.00000000e+00 1.17283024e-03 9.67895994e-06\n",
      " 1.71927061e-03 7.81011467e-09 2.49848965e-05 0.00000000e+00\n",
      " 1.98826545e-05 1.34923318e-06 2.69151821e-09 3.28202660e-06\n",
      " 1.49289982e-05 2.36210577e-04 4.55369884e-05 2.25896694e-02\n",
      " 2.58279948e-05 3.92196770e-02 0.00000000e+00 3.09424482e-04\n",
      " 4.71566388e-04 9.33125437e-07 1.19246091e-02 1.60864512e-03\n",
      " 5.17026627e-03 7.74828390e-06 1.68070744e-02 1.09199796e-04\n",
      " 1.64024464e-08 1.10786085e-02 4.78098469e-03 1.50695197e-06\n",
      " 3.37525347e-04 1.18173824e-05 2.45428121e-04 4.91802177e-10\n",
      " 7.18906838e-05 1.88163656e-02 7.38312293e-06 3.67206346e-05\n",
      " 2.06041577e-05 6.25101437e-03 1.28760019e-05 8.70900785e-02\n",
      " 1.10835818e-01 6.12239083e-04 4.95061761e-03 1.23085725e-03\n",
      " 2.42459848e-06 3.40699078e-04 3.32261247e-03 8.39657968e-02\n",
      " 4.02768874e-02]\n"
     ]
    },
    {
     "data": {
      "image/png": "[encoded data removed]",
      "text/plain": [
       "<Figure size 432x288 with 1 Axes>"
      ]
     },
     "metadata": {
      "needs_background": "light"
     },
     "output_type": "display_data"
    }
   ],
   "source": [
    "X_other, X_test, y_other, y_test = train_test_split(X, y, test_size = 0.2, random_state = 300)\n",
    "kf = KFold(n_splits = 5, shuffle = True, random_state = 300)\n",
    "\n",
    "depths = [15, 15, 15, 15, 15]\n",
    "splits = [5, 3, 6, 4, 3]\n",
    "ind = 0\n",
    "for train_index, CV_index in kf.split(X_other, y_other):\n",
    "    X_train, X_CV = X_other.iloc[train_index.tolist()], X_other.iloc[CV_index.tolist()]\n",
    "    y_train, y_CV = y_other.iloc[train_index.tolist()], y_other.iloc[CV_index.tolist()]\n",
    "    \n",
    "    ss = StandardScaler()\n",
    "    X_train_ss = ss.fit_transform(X_train[standard_ftrs])\n",
    "    X_train_ss = pd.DataFrame(X_train_ss, columns = standard_ftrs)\n",
    "    X_c_ss = ss.transform(X_CV[standard_ftrs])\n",
    "    X_c_ss = pd.DataFrame(X_c_ss, columns = standard_ftrs)\n",
    "    X_t_ss = ss.transform(X_test[standard_ftrs])\n",
    "    X_t_ss = pd.DataFrame(X_t_ss, columns = standard_ftrs)\n",
    "        \n",
    "    ohe = OneHotEncoder(sparse = False, categories='auto')\n",
    "    X_train_ohe = ohe.fit_transform(X_train[onehot_ftrs])\n",
    "    X_train_ohe = pd.DataFrame(X_train_ohe, columns = ohe.get_feature_names())\n",
    "    X_c_ohe = ohe.transform(X_CV[onehot_ftrs])\n",
    "    X_c_ohe = pd.DataFrame(X_c_ohe, columns = ohe.get_feature_names())\n",
    "    X_t_ohe = ohe.transform(X_test[onehot_ftrs])\n",
    "    X_t_ohe = pd.DataFrame(X_t_ohe, columns = ohe.get_feature_names())\n",
    "        \n",
    "    oe = OrdinalEncoder(categories = [['5-14 years','15-24 years', '25-34 years',\n",
    "                                       '35-54 years','55-74 years','75+ years']])\n",
    "    X_train_oe = oe.fit_transform(X_train[ordinal_ftrs])\n",
    "    X_train_oe = pd.DataFrame(X_train_oe, columns = ordinal_ftrs)\n",
    "    X_c_oe = oe.transform(X_CV[ordinal_ftrs])\n",
    "    X_c_oe = pd.DataFrame(X_c_oe, columns = ordinal_ftrs)\n",
    "    X_t_oe = oe.transform(X_test[ordinal_ftrs])\n",
    "    X_t_oe = pd.DataFrame(X_t_oe, columns = ordinal_ftrs)\n",
    "        \n",
    "    mm = MinMaxScaler()\n",
    "    X_train_mm = mm.fit_transform(X_train[minmax_ftrs])\n",
    "    X_train_mm = pd.DataFrame(X_train_mm, columns = minmax_ftrs)\n",
    "    X_c_mm = mm.transform(X_CV[minmax_ftrs])\n",
    "    X_c_mm = pd.DataFrame(X_c_mm, columns = minmax_ftrs)\n",
    "    X_t_mm = mm.transform(X_test[minmax_ftrs])\n",
    "    X_t_mm = pd.DataFrame(X_t_mm, columns = minmax_ftrs)\n",
    "\n",
    "    X_train_ = pd.concat([X_train_mm, X_train_oe, X_train_ohe, X_train_ss], axis=1)\n",
    "    X_CV_ = pd.concat([X_c_mm, X_c_oe, X_c_ohe, X_c_ss], axis=1)\n",
    "    X_test_ = pd.concat([X_t_mm, X_t_oe, X_t_ohe, X_t_ss], axis=1)\n",
    "\n",
    "    clf_rf = RandomForestRegressor(n_estimators=100, random_state=300, \n",
    "                                   max_depth=depths[ind], min_samples_split=splits[ind])\n",
    "    clf_rf.fit(X_train_, y_train)\n",
    "    imp = clf_rf.feature_importances_\n",
    "    \n",
    "    ftrs_df = pd.DataFrame()\n",
    "    ftrs_df['features'] = X_train_.columns\n",
    "    ftrs_df['importance'] = imp\n",
    "    ftrs_df = ftrs_df.sort_values('importance', ascending = False)\n",
    "    \n",
    "    print(imp)\n",
    "    plt.bar(range(15), ftrs_df['importance'][0:15])\n",
    "    plt.xlabel(\"Feature\")\n",
    "    plt.ylabel(\"Importance\")\n",
    "    plt.title(\"Global Feature Importance - Random Forest Regressor\")\n",
    "    plt.xticks(range(15), ftrs_df['features'][0:15], rotation='vertical')\n",
    "    plt.savefig('random_forest_global_ftr_importance{}'.format(ind), dpi=500, bbox_inches = \"tight\")\n",
    "    plt.show()\n",
    "    ind += 1"
   ]
  },
  {
   "cell_type": "code",
   "execution_count": null,
   "metadata": {},
   "outputs": [],
   "source": []
  }
 ],
 "metadata": {
  "kernelspec": {
   "display_name": "Python 3",
   "language": "python",
   "name": "python3"
  },
  "language_info": {
   "codemirror_mode": {
    "name": "ipython",
    "version": 3
   },
   "file_extension": ".py",
   "mimetype": "text/x-python",
   "name": "python",
   "nbconvert_exporter": "python",
   "pygments_lexer": "ipython3",
   "version": "3.7.3"
  }
 },
 "nbformat": 4,
 "nbformat_minor": 4
}
