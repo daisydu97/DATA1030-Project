{
 "cells": [
  {
   "cell_type": "markdown",
   "metadata": {},
   "source": [
    "Import Data"
   ]
  },
  {
   "cell_type": "code",
   "execution_count": 1,
   "metadata": {},
   "outputs": [],
   "source": [
    "import pandas as pd"
   ]
  },
  {
   "cell_type": "code",
   "execution_count": 2,
   "metadata": {},
   "outputs": [
    {
     "data": {
      "text/html": [
       "<div>\n",
       "<style scoped>\n",
       "    .dataframe tbody tr th:only-of-type {\n",
       "        vertical-align: middle;\n",
       "    }\n",
       "\n",
       "    .dataframe tbody tr th {\n",
       "        vertical-align: top;\n",
       "    }\n",
       "\n",
       "    .dataframe thead th {\n",
       "        text-align: right;\n",
       "    }\n",
       "</style>\n",
       "<table border=\"1\" class=\"dataframe\">\n",
       "  <thead>\n",
       "    <tr style=\"text-align: right;\">\n",
       "      <th></th>\n",
       "      <th>country</th>\n",
       "      <th>year</th>\n",
       "      <th>sex</th>\n",
       "      <th>age</th>\n",
       "      <th>suicides_no</th>\n",
       "      <th>population</th>\n",
       "      <th>suicides/100k pop</th>\n",
       "      <th>country-year</th>\n",
       "      <th>HDI for year</th>\n",
       "      <th>gdp_for_year ($)</th>\n",
       "      <th>gdp_per_capita ($)</th>\n",
       "      <th>generation</th>\n",
       "    </tr>\n",
       "  </thead>\n",
       "  <tbody>\n",
       "    <tr>\n",
       "      <th>0</th>\n",
       "      <td>Albania</td>\n",
       "      <td>1987</td>\n",
       "      <td>male</td>\n",
       "      <td>15-24 years</td>\n",
       "      <td>21</td>\n",
       "      <td>312900</td>\n",
       "      <td>6.71</td>\n",
       "      <td>Albania1987</td>\n",
       "      <td>NaN</td>\n",
       "      <td>2,156,624,900</td>\n",
       "      <td>796</td>\n",
       "      <td>Generation X</td>\n",
       "    </tr>\n",
       "    <tr>\n",
       "      <th>1</th>\n",
       "      <td>Albania</td>\n",
       "      <td>1987</td>\n",
       "      <td>male</td>\n",
       "      <td>35-54 years</td>\n",
       "      <td>16</td>\n",
       "      <td>308000</td>\n",
       "      <td>5.19</td>\n",
       "      <td>Albania1987</td>\n",
       "      <td>NaN</td>\n",
       "      <td>2,156,624,900</td>\n",
       "      <td>796</td>\n",
       "      <td>Silent</td>\n",
       "    </tr>\n",
       "    <tr>\n",
       "      <th>2</th>\n",
       "      <td>Albania</td>\n",
       "      <td>1987</td>\n",
       "      <td>female</td>\n",
       "      <td>15-24 years</td>\n",
       "      <td>14</td>\n",
       "      <td>289700</td>\n",
       "      <td>4.83</td>\n",
       "      <td>Albania1987</td>\n",
       "      <td>NaN</td>\n",
       "      <td>2,156,624,900</td>\n",
       "      <td>796</td>\n",
       "      <td>Generation X</td>\n",
       "    </tr>\n",
       "    <tr>\n",
       "      <th>3</th>\n",
       "      <td>Albania</td>\n",
       "      <td>1987</td>\n",
       "      <td>male</td>\n",
       "      <td>75+ years</td>\n",
       "      <td>1</td>\n",
       "      <td>21800</td>\n",
       "      <td>4.59</td>\n",
       "      <td>Albania1987</td>\n",
       "      <td>NaN</td>\n",
       "      <td>2,156,624,900</td>\n",
       "      <td>796</td>\n",
       "      <td>G.I. Generation</td>\n",
       "    </tr>\n",
       "    <tr>\n",
       "      <th>4</th>\n",
       "      <td>Albania</td>\n",
       "      <td>1987</td>\n",
       "      <td>male</td>\n",
       "      <td>25-34 years</td>\n",
       "      <td>9</td>\n",
       "      <td>274300</td>\n",
       "      <td>3.28</td>\n",
       "      <td>Albania1987</td>\n",
       "      <td>NaN</td>\n",
       "      <td>2,156,624,900</td>\n",
       "      <td>796</td>\n",
       "      <td>Boomers</td>\n",
       "    </tr>\n",
       "  </tbody>\n",
       "</table>\n",
       "</div>"
      ],
      "text/plain": [
       "   country  year     sex          age  suicides_no  population  \\\n",
       "0  Albania  1987    male  15-24 years           21      312900   \n",
       "1  Albania  1987    male  35-54 years           16      308000   \n",
       "2  Albania  1987  female  15-24 years           14      289700   \n",
       "3  Albania  1987    male    75+ years            1       21800   \n",
       "4  Albania  1987    male  25-34 years            9      274300   \n",
       "\n",
       "   suicides/100k pop country-year  HDI for year  gdp_for_year ($)   \\\n",
       "0               6.71  Albania1987           NaN      2,156,624,900   \n",
       "1               5.19  Albania1987           NaN      2,156,624,900   \n",
       "2               4.83  Albania1987           NaN      2,156,624,900   \n",
       "3               4.59  Albania1987           NaN      2,156,624,900   \n",
       "4               3.28  Albania1987           NaN      2,156,624,900   \n",
       "\n",
       "   gdp_per_capita ($)       generation  \n",
       "0                 796     Generation X  \n",
       "1                 796           Silent  \n",
       "2                 796     Generation X  \n",
       "3                 796  G.I. Generation  \n",
       "4                 796          Boomers  "
      ]
     },
     "execution_count": 2,
     "metadata": {},
     "output_type": "execute_result"
    }
   ],
   "source": [
    "df = pd.read_csv('Suicide Rate.csv')\n",
    "df.head()"
   ]
  },
  {
   "cell_type": "code",
   "execution_count": 3,
   "metadata": {},
   "outputs": [],
   "source": [
    "from sklearn.preprocessing import OrdinalEncoder\n",
    "from sklearn.preprocessing import OneHotEncoder\n",
    "from sklearn.preprocessing import MinMaxScaler\n",
    "from sklearn.preprocessing import StandardScaler"
   ]
  },
  {
   "cell_type": "markdown",
   "metadata": {},
   "source": [
    "One Hot Encoder"
   ]
  },
  {
   "cell_type": "code",
   "execution_count": 4,
   "metadata": {},
   "outputs": [],
   "source": [
    "enc_ohe = OneHotEncoder(sparse=False, handle_unknown = 'ignore')"
   ]
  },
  {
   "cell_type": "code",
   "execution_count": 5,
   "metadata": {},
   "outputs": [],
   "source": [
    "df_country = pd.DataFrame({'Country': df['country']})\n",
    "df_country = enc_ohe.fit_transform(df_country)\n",
    "df_country = pd.DataFrame(df_country, columns=['Albania', 'Antigua and Barbuda', 'Argentina', 'Armenia',\n",
    "                                              'Aruba', 'Australia', 'Austria', 'Azerbaijan', 'Bahamas',\n",
    "                                              'Bahrain', 'Barbados', 'Belarus', 'Belgium', 'Belize',\n",
    "                                              'Bosnia and Herzegovina', 'Brazil', 'Bulgaria', 'Cabo Verde',\n",
    "                                              'Canada', 'Chile', 'Colombia', 'Costa Rica', 'Croatia',\n",
    "                                              'Cuba', 'Cyprus', 'Czech Republic', 'Denmark', 'Dominica',\n",
    "                                              'Ecuador', 'El Salvador', 'Estonia', 'Fiji', 'Finland',\n",
    "                                              'France', 'Georgia', 'Germany', 'Greece', 'Grenada',\n",
    "                                              'Guatemala', 'Guyana', 'Hungary', 'Iceland', 'Ireland',\n",
    "                                              'Israel', 'Italy', 'Jamaica', 'Japan', 'Kazakhstan',\n",
    "                                              'Kiribati', 'Kuwait', 'Kyrgyzstan', 'Latvia', 'Lithuania',\n",
    "                                              'Luxembourg', 'Macau', 'Maldives', 'Malta', 'Mauritius',\n",
    "                                              'Mexico', 'Mongolia', 'Montenegro', 'Netherlands',\n",
    "                                              'New Zealand', 'Nicaragua', 'Norway', 'Oman', 'Panama',\n",
    "                                              'Paraguay', 'Philippines', 'Poland', 'Portugal', 'Puerto Rico',\n",
    "                                              'Qatar', 'Republic of Korea', 'Romania', 'Russian Federation',\n",
    "                                              'Saint Kitts and Nevis', 'Saint Lucia',\n",
    "                                              'Saint Vincent and Grenadines', 'San Marino', 'Serbia',\n",
    "                                              'Seychelles', 'Singapore', 'Slovakia', 'Slovenia',\n",
    "                                              'South Africa', 'Spain', 'Sri Lanka', 'Suriname', 'Sweden',\n",
    "                                              'Switzerland', 'Thailand', 'Trinidad and Tobago', 'Turkey',\n",
    "                                              'Turkmenistan', 'Ukraine', 'United Arab Emirates',\n",
    "                                              'United Kingdom', 'United States', 'Uruguay', 'Uzbekistan'])\n"
   ]
  },
  {
   "cell_type": "code",
   "execution_count": 6,
   "metadata": {},
   "outputs": [],
   "source": [
    "df_sex = pd.DataFrame({'Sex': df['sex']})\n",
    "df_sex = enc_ohe.fit_transform(df_sex)\n",
    "df_sex = pd.DataFrame(df_sex, columns=['female', 'male'])"
   ]
  },
  {
   "cell_type": "code",
   "execution_count": 7,
   "metadata": {},
   "outputs": [],
   "source": [
    "df_generation = pd.DataFrame({'Generation': df['generation']})\n",
    "df_generation = enc_ohe.fit_transform(df_generation)\n",
    "df_generation = pd.DataFrame(df_generation, columns=['Boomers', 'G.I. Generation', 'Generation X', \n",
    "                                                    'Generation Z', 'Millenials', 'Silent'])"
   ]
  },
  {
   "cell_type": "code",
   "execution_count": 12,
   "metadata": {},
   "outputs": [
    {
     "data": {
      "text/plain": [
       "35-54 years    4642\n",
       "55-74 years    4642\n",
       "15-24 years    4642\n",
       "25-34 years    4642\n",
       "75+ years      4642\n",
       "5-14 years     4610\n",
       "Name: age, dtype: int64"
      ]
     },
     "execution_count": 12,
     "metadata": {},
     "output_type": "execute_result"
    }
   ],
   "source": [
    "df[\"age\"].value_counts()"
   ]
  },
  {
   "cell_type": "markdown",
   "metadata": {},
   "source": [
    "Ordinal Encoder"
   ]
  },
  {
   "cell_type": "code",
   "execution_count": 13,
   "metadata": {},
   "outputs": [],
   "source": [
    "enc_oe = OrdinalEncoder(categories = [['5-14 years','15-24 years', '25-34 years',\n",
    "                                       '35-54 years','55-74 years','75+ years']])"
   ]
  },
  {
   "cell_type": "code",
   "execution_count": 14,
   "metadata": {},
   "outputs": [],
   "source": [
    "df_age = pd.DataFrame({'Age': df['age']})\n",
    "df_age = enc_oe.fit_transform(df_age)\n",
    "df_age = pd.DataFrame(df_age, columns = ['Age'])"
   ]
  },
  {
   "cell_type": "markdown",
   "metadata": {},
   "source": [
    "MinMax Encoder"
   ]
  },
  {
   "cell_type": "code",
   "execution_count": 15,
   "metadata": {},
   "outputs": [],
   "source": [
    "mms = MinMaxScaler()"
   ]
  },
  {
   "cell_type": "code",
   "execution_count": 16,
   "metadata": {},
   "outputs": [],
   "source": [
    "df_year = pd.DataFrame({'Year': df['year']})\n",
    "df_year = mms.fit_transform(df_year)\n",
    "df_year = pd.DataFrame(df_year, columns = ['Year'])"
   ]
  },
  {
   "cell_type": "markdown",
   "metadata": {},
   "source": [
    "Standard Scaler"
   ]
  },
  {
   "cell_type": "code",
   "execution_count": 17,
   "metadata": {},
   "outputs": [],
   "source": [
    "ss = StandardScaler()"
   ]
  },
  {
   "cell_type": "code",
   "execution_count": 18,
   "metadata": {},
   "outputs": [],
   "source": [
    "df_pop = pd.DataFrame({'Population': df['population']})\n",
    "df_pop = ss.fit_transform(df_pop)\n",
    "df_pop = pd.DataFrame(df_pop, columns = ['Population'])"
   ]
  },
  {
   "cell_type": "code",
   "execution_count": 19,
   "metadata": {},
   "outputs": [],
   "source": [
    "df_SN = pd.DataFrame({'Suicide Number': df['suicides_no']})\n",
    "df_SN = ss.fit_transform(df_SN)\n",
    "df_SN = pd.DataFrame(df_SN, columns = ['Suicide Number'])"
   ]
  },
  {
   "cell_type": "code",
   "execution_count": 20,
   "metadata": {},
   "outputs": [],
   "source": [
    "df_SR = pd.DataFrame({'Suicide Rate': df['suicides/100k pop']})\n",
    "df_SR = ss.fit_transform(df_SR)\n",
    "df_SR = pd.DataFrame(df_SR, columns = ['Suicide Rate'])"
   ]
  },
  {
   "cell_type": "code",
   "execution_count": 21,
   "metadata": {},
   "outputs": [],
   "source": [
    "columns = df.columns"
   ]
  },
  {
   "cell_type": "code",
   "execution_count": 22,
   "metadata": {},
   "outputs": [],
   "source": [
    "df_GDPcap = pd.DataFrame(df[columns[[10]]])\n",
    "df_GDPcap = ss.fit_transform(df_GDPcap)\n",
    "df_GDPcap = pd.DataFrame(df_GDPcap, columns = ['GDP per capita'])"
   ]
  },
  {
   "cell_type": "code",
   "execution_count": 32,
   "metadata": {},
   "outputs": [],
   "source": [
    "df_preprocessed = pd.concat([df_country, df_sex, df_generation, \n",
    "                                       df_age, df_year, df_pop, df_SN,\n",
    "                                       df_SR, df_GDPcap], join = \"outer\", axis =1, sort = False)"
   ]
  },
  {
   "cell_type": "code",
   "execution_count": 33,
   "metadata": {},
   "outputs": [
    {
     "data": {
      "text/html": [
       "<div>\n",
       "<style scoped>\n",
       "    .dataframe tbody tr th:only-of-type {\n",
       "        vertical-align: middle;\n",
       "    }\n",
       "\n",
       "    .dataframe tbody tr th {\n",
       "        vertical-align: top;\n",
       "    }\n",
       "\n",
       "    .dataframe thead th {\n",
       "        text-align: right;\n",
       "    }\n",
       "</style>\n",
       "<table border=\"1\" class=\"dataframe\">\n",
       "  <thead>\n",
       "    <tr style=\"text-align: right;\">\n",
       "      <th></th>\n",
       "      <th>Albania</th>\n",
       "      <th>Antigua and Barbuda</th>\n",
       "      <th>Argentina</th>\n",
       "      <th>Armenia</th>\n",
       "      <th>Aruba</th>\n",
       "      <th>Australia</th>\n",
       "      <th>Austria</th>\n",
       "      <th>Azerbaijan</th>\n",
       "      <th>Bahamas</th>\n",
       "      <th>Bahrain</th>\n",
       "      <th>...</th>\n",
       "      <th>Generation X</th>\n",
       "      <th>Generation Z</th>\n",
       "      <th>Millenials</th>\n",
       "      <th>Silent</th>\n",
       "      <th>Age</th>\n",
       "      <th>Year</th>\n",
       "      <th>Population</th>\n",
       "      <th>Suicide Number</th>\n",
       "      <th>Suicide Rate</th>\n",
       "      <th>GDP per capita</th>\n",
       "    </tr>\n",
       "  </thead>\n",
       "  <tbody>\n",
       "    <tr>\n",
       "      <th>0</th>\n",
       "      <td>1.0</td>\n",
       "      <td>0.0</td>\n",
       "      <td>0.0</td>\n",
       "      <td>0.0</td>\n",
       "      <td>0.0</td>\n",
       "      <td>0.0</td>\n",
       "      <td>0.0</td>\n",
       "      <td>0.0</td>\n",
       "      <td>0.0</td>\n",
       "      <td>0.0</td>\n",
       "      <td>...</td>\n",
       "      <td>1.0</td>\n",
       "      <td>0.0</td>\n",
       "      <td>0.0</td>\n",
       "      <td>0.0</td>\n",
       "      <td>1.0</td>\n",
       "      <td>0.064516</td>\n",
       "      <td>-0.391617</td>\n",
       "      <td>-0.245639</td>\n",
       "      <td>-0.322032</td>\n",
       "      <td>-0.850864</td>\n",
       "    </tr>\n",
       "    <tr>\n",
       "      <th>1</th>\n",
       "      <td>1.0</td>\n",
       "      <td>0.0</td>\n",
       "      <td>0.0</td>\n",
       "      <td>0.0</td>\n",
       "      <td>0.0</td>\n",
       "      <td>0.0</td>\n",
       "      <td>0.0</td>\n",
       "      <td>0.0</td>\n",
       "      <td>0.0</td>\n",
       "      <td>0.0</td>\n",
       "      <td>...</td>\n",
       "      <td>0.0</td>\n",
       "      <td>0.0</td>\n",
       "      <td>0.0</td>\n",
       "      <td>1.0</td>\n",
       "      <td>3.0</td>\n",
       "      <td>0.064516</td>\n",
       "      <td>-0.392870</td>\n",
       "      <td>-0.251182</td>\n",
       "      <td>-0.402196</td>\n",
       "      <td>-0.850864</td>\n",
       "    </tr>\n",
       "    <tr>\n",
       "      <th>2</th>\n",
       "      <td>1.0</td>\n",
       "      <td>0.0</td>\n",
       "      <td>0.0</td>\n",
       "      <td>0.0</td>\n",
       "      <td>0.0</td>\n",
       "      <td>0.0</td>\n",
       "      <td>0.0</td>\n",
       "      <td>0.0</td>\n",
       "      <td>0.0</td>\n",
       "      <td>0.0</td>\n",
       "      <td>...</td>\n",
       "      <td>1.0</td>\n",
       "      <td>0.0</td>\n",
       "      <td>0.0</td>\n",
       "      <td>0.0</td>\n",
       "      <td>1.0</td>\n",
       "      <td>0.064516</td>\n",
       "      <td>-0.397548</td>\n",
       "      <td>-0.253400</td>\n",
       "      <td>-0.421182</td>\n",
       "      <td>-0.850864</td>\n",
       "    </tr>\n",
       "    <tr>\n",
       "      <th>3</th>\n",
       "      <td>1.0</td>\n",
       "      <td>0.0</td>\n",
       "      <td>0.0</td>\n",
       "      <td>0.0</td>\n",
       "      <td>0.0</td>\n",
       "      <td>0.0</td>\n",
       "      <td>0.0</td>\n",
       "      <td>0.0</td>\n",
       "      <td>0.0</td>\n",
       "      <td>0.0</td>\n",
       "      <td>...</td>\n",
       "      <td>0.0</td>\n",
       "      <td>0.0</td>\n",
       "      <td>0.0</td>\n",
       "      <td>0.0</td>\n",
       "      <td>5.0</td>\n",
       "      <td>0.064516</td>\n",
       "      <td>-0.466035</td>\n",
       "      <td>-0.267811</td>\n",
       "      <td>-0.433839</td>\n",
       "      <td>-0.850864</td>\n",
       "    </tr>\n",
       "    <tr>\n",
       "      <th>4</th>\n",
       "      <td>1.0</td>\n",
       "      <td>0.0</td>\n",
       "      <td>0.0</td>\n",
       "      <td>0.0</td>\n",
       "      <td>0.0</td>\n",
       "      <td>0.0</td>\n",
       "      <td>0.0</td>\n",
       "      <td>0.0</td>\n",
       "      <td>0.0</td>\n",
       "      <td>0.0</td>\n",
       "      <td>...</td>\n",
       "      <td>0.0</td>\n",
       "      <td>0.0</td>\n",
       "      <td>0.0</td>\n",
       "      <td>0.0</td>\n",
       "      <td>2.0</td>\n",
       "      <td>0.064516</td>\n",
       "      <td>-0.401485</td>\n",
       "      <td>-0.258943</td>\n",
       "      <td>-0.502928</td>\n",
       "      <td>-0.850864</td>\n",
       "    </tr>\n",
       "  </tbody>\n",
       "</table>\n",
       "<p>5 rows × 115 columns</p>\n",
       "</div>"
      ],
      "text/plain": [
       "   Albania  Antigua and Barbuda  Argentina  Armenia  Aruba  Australia  \\\n",
       "0      1.0                  0.0        0.0      0.0    0.0        0.0   \n",
       "1      1.0                  0.0        0.0      0.0    0.0        0.0   \n",
       "2      1.0                  0.0        0.0      0.0    0.0        0.0   \n",
       "3      1.0                  0.0        0.0      0.0    0.0        0.0   \n",
       "4      1.0                  0.0        0.0      0.0    0.0        0.0   \n",
       "\n",
       "   Austria  Azerbaijan  Bahamas  Bahrain  ...  Generation X  Generation Z  \\\n",
       "0      0.0         0.0      0.0      0.0  ...           1.0           0.0   \n",
       "1      0.0         0.0      0.0      0.0  ...           0.0           0.0   \n",
       "2      0.0         0.0      0.0      0.0  ...           1.0           0.0   \n",
       "3      0.0         0.0      0.0      0.0  ...           0.0           0.0   \n",
       "4      0.0         0.0      0.0      0.0  ...           0.0           0.0   \n",
       "\n",
       "   Millenials  Silent  Age      Year  Population  Suicide Number  \\\n",
       "0         0.0     0.0  1.0  0.064516   -0.391617       -0.245639   \n",
       "1         0.0     1.0  3.0  0.064516   -0.392870       -0.251182   \n",
       "2         0.0     0.0  1.0  0.064516   -0.397548       -0.253400   \n",
       "3         0.0     0.0  5.0  0.064516   -0.466035       -0.267811   \n",
       "4         0.0     0.0  2.0  0.064516   -0.401485       -0.258943   \n",
       "\n",
       "   Suicide Rate  GDP per capita  \n",
       "0     -0.322032       -0.850864  \n",
       "1     -0.402196       -0.850864  \n",
       "2     -0.421182       -0.850864  \n",
       "3     -0.433839       -0.850864  \n",
       "4     -0.502928       -0.850864  \n",
       "\n",
       "[5 rows x 115 columns]"
      ]
     },
     "execution_count": 33,
     "metadata": {},
     "output_type": "execute_result"
    }
   ],
   "source": [
    "df_preprocessed.head()"
   ]
  },
  {
   "cell_type": "code",
   "execution_count": 34,
   "metadata": {},
   "outputs": [
    {
     "data": {
      "text/plain": [
       "-0.675913    4281\n",
       "-0.660618      72\n",
       "-0.659036      69\n",
       "-0.657981      55\n",
       "-0.656399      52\n",
       "             ... \n",
       " 2.053349       1\n",
       " 0.873570       1\n",
       " 3.002658       1\n",
       " 2.555428       1\n",
       " 3.351265       1\n",
       "Name: Suicide Rate, Length: 5298, dtype: int64"
      ]
     },
     "execution_count": 34,
     "metadata": {},
     "output_type": "execute_result"
    }
   ],
   "source": [
    "df_preprocessed[\"Suicide Rate\"].value_counts()"
   ]
  },
  {
   "cell_type": "code",
   "execution_count": 38,
   "metadata": {},
   "outputs": [],
   "source": [
    "#df_preprocessed.to_csv(r'DATA1030-Project\\Data\\Suicide Rate Preprocessed.csv', index=False)"
   ]
  }
 ],
 "metadata": {
  "kernelspec": {
   "display_name": "Python 3",
   "language": "python",
   "name": "python3"
  },
  "language_info": {
   "codemirror_mode": {
    "name": "ipython",
    "version": 3
   },
   "file_extension": ".py",
   "mimetype": "text/x-python",
   "name": "python",
   "nbconvert_exporter": "python",
   "pygments_lexer": "ipython3",
   "version": "3.7.3"
  }
 },
 "nbformat": 4,
 "nbformat_minor": 4
}
